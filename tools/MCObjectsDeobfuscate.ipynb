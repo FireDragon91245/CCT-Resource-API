{
 "cells": [
  {
   "cell_type": "markdown",
   "metadata": {},
   "source": [
    "**This is a simple Deobfuscation scipt that deobfuscates the minecraft assets/objects folder to make sounds and hiden textures available**"
   ]
  },
  {
   "cell_type": "code",
   "execution_count": 1,
   "metadata": {},
   "outputs": [
    {
     "name": "stdout",
     "output_type": "stream",
     "text": [
      "C:\\Users\\Rick\\AppData\\Roaming\\.minecraft\\assets\\indexes\\1.16.json\n"
     ]
    }
   ],
   "source": [
    "from pathlib import Path\n",
    "import re\n",
    "import json\n",
    "import glob\n",
    "from collections.abc import Callable\n",
    "from os.path import expanduser\n",
    "\n",
    "class Deobfuscator:\n",
    "    def __init__(self, mcDir: Path, version: str) -> None:\n",
    "        if not mcDir.exists() or not mcDir.is_dir():\n",
    "            raise FileNotFoundError(f\"Directory {mcDir} does not exist\")\n",
    "        if re.match(r\"\\d+\\.\\d+\\.\\d+\", version) is None:\n",
    "            raise ValueError(f\"Invalid version: {version}\")\n",
    "        \n",
    "        self.mcDir = mcDir\n",
    "        self.version = version\n",
    "        \n",
    "    def load(self) -> None:\n",
    "        index_location = (self.mcDir / \"assets\" / \"indexes\" / f\"{self.get_major_version(self.version)}.json\")\n",
    "        print(index_location)\n",
    "        index_text = index_location.read_text()\n",
    "        self.json = json.loads(index_text)\n",
    "        \n",
    "        self.files = {}\n",
    "        for file in glob.glob(str(self.mcDir / \"assets\" / \"objects\" / \"**\"), recursive=True):\n",
    "            path = Path(file)\n",
    "            if path.is_file():\n",
    "                self.files[path.name] = path\n",
    "        \n",
    "    def deobfuscate(self, filter: Callable[[Path], bool]) -> str:\n",
    "        self.mapped_files = {}\n",
    "        objects = self.json[\"objects\"]\n",
    "        for key in objects:\n",
    "            if filter(Path(key)):\n",
    "                object = objects[key]\n",
    "                hash = object[\"hash\"]\n",
    "                self.mapped_files[hash] = key\n",
    "                \n",
    "    def write(self, output: Path) -> None:\n",
    "        output.mkdir(parents=True, exist_ok=True)\n",
    "        \n",
    "        for hash in self.mapped_files:\n",
    "            path = output / self.mapped_files[hash]\n",
    "            path.parent.mkdir(parents=True, exist_ok=True)\n",
    "            \n",
    "            with open(path, \"wb\") as f:\n",
    "                f.write((self.mcDir / \"assets\" / \"objects\" / self.files[hash]).read_bytes())\n",
    "                \n",
    "        \n",
    "        \n",
    "        \n",
    "    @staticmethod\n",
    "    def get_major_version(version: str) -> str:\n",
    "        return re.match(r\"(\\d+\\.\\d+)\", version).group(1)\n",
    "\n",
    "home = Path(expanduser(\"~\"))\n",
    "\n",
    "mcdir_raw = input(\"Enter the path to the Minecraft directory:\")\n",
    "if len(mcdir_raw) == 0:\n",
    "    mcdir = home / \"AppData\" / \"Roaming\" / \".minecraft\"\n",
    "else:\n",
    "    mcdir = Path(mcdir_raw)\n",
    "    \n",
    "mcver = input(\"Enter the Minecraft version(s):\")\n",
    "if len(mcver) == 0:\n",
    "    mcver = \"1.16.5,1.18.2,1.19.4\"\n",
    "    \n",
    "extension_filter = input(\"Enter file filter (regex) (leave blank for all):\")\n",
    "output_dir_raw = input(\"Enter the output directory: \")\n",
    "if len(output_dir_raw) == 0:\n",
    "    output_dir = Path(\"output\")\n",
    "else:\n",
    "    output_dir = Path(output_dir_raw)\n",
    "\n",
    "version_list = mcver.split(\",\")\n",
    "\n",
    "for version in version_list:\n",
    "    do = Deobfuscator(mcdir, version)\n",
    "    do.load()\n",
    "    do.deobfuscate(lambda f: re.match(extension_filter, f.name) or not extension_filter)\n",
    "    do.write(output_dir / (version + \"_object\"))\n"
   ]
  }
 ],
 "metadata": {
  "kernelspec": {
   "display_name": "Python 3",
   "language": "python",
   "name": "python3"
  },
  "language_info": {
   "codemirror_mode": {
    "name": "ipython",
    "version": 3
   },
   "file_extension": ".py",
   "mimetype": "text/x-python",
   "name": "python",
   "nbconvert_exporter": "python",
   "pygments_lexer": "ipython3",
   "version": "3.12.1"
  }
 },
 "nbformat": 4,
 "nbformat_minor": 2
}
