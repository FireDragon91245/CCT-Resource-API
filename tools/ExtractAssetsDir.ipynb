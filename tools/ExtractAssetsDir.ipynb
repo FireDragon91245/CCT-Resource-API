{
 "cells": [
  {
   "cell_type": "code",

   "execution_count": 1,
   "metadata": {},
   "outputs": [],
   "source": [
    "from pathlib import Path\n",
    "from zipfile import ZipFile\n",
    "from os.path import expanduser\n",
    "\n",
    "home = Path(expanduser(\"~\"))\n",
    "\n",
    "mcdir_raw = input(\"Enter the path to the Minecraft directory:\")\n",
    "if len(mcdir_raw) == 0:\n",
    "    mcdir = home / \"AppData\" / \"Roaming\" / \".minecraft\"\n",
    "else:\n",
    "    mcdir = Path(mcdir_raw)\n",
    "    \n",
    "mcver = input(\"Enter the Minecraft version(s) (Comma Sperated):\")\n",
    "if len(mcver) == 0:\n",
    "    mcver = \"1.16.5,1.18.2,1.19.4\"\n",
    "    \n",
    "outdir_rwa = input(\"Enter the path to the output directory: \")\n",
    "if len(outdir_rwa) == 0:\n",
    "    outdir = Path(\"output\")\n",
    "else:\n",
    "    outdir = Path(outdir_rwa)\n",
    "    \n",
    "versions = mcver.split(\",\")\n",
    "\n",
    "for ver in versions:\n",
    "    curr_outdir = outdir / (ver + \"_assets\")\n",
    "    curr_outdir.mkdir(parents=True, exist_ok=True)\n",
    "    with ZipFile(mcdir / \"versions\" / ver / f\"{ver}.jar\", \"r\") as jar:\n",
    "        for f in jar.filelist:\n",
    "            if f.filename.startswith(\"assets\"):\n",
    "                jar.extract(f, curr_outdir)\n"
   ]
  }
 ],
 "metadata": {
  "kernelspec": {
   "display_name": "Python 3",
   "language": "python",
   "name": "python3"
  },
  "language_info": {
   "codemirror_mode": {
    "name": "ipython",
    "version": 3
   },
   "file_extension": ".py",
   "mimetype": "text/x-python",
   "name": "python",
   "nbconvert_exporter": "python",
   "pygments_lexer": "ipython3",
   "version": "3.12.1"
  }
 },
 "nbformat": 4,
 "nbformat_minor": 2
}
